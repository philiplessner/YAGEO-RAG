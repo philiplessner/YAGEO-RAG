{
 "cells": [
  {
   "cell_type": "code",
   "execution_count": 2,
   "id": "73a14a1f-0155-4cb2-8639-b7883c40bd3a",
   "metadata": {},
   "outputs": [],
   "source": [
    "from typing import Sequence\n",
    "import bs4\n",
    "from langchain import hub\n",
    "from langchain_community.vectorstores import Chroma\n",
    "from langchain_community.document_loaders import WebBaseLoader\n",
    "from langchain_core.output_parsers import StrOutputParser\n",
    "from langchain_core.runnables import RunnablePassthrough\n",
    "from langchain_openai import OpenAIEmbeddings\n",
    "from langchain_text_splitters import RecursiveCharacterTextSplitter\n",
    "from langchain_openai import ChatOpenAI"
   ]
  },
  {
   "cell_type": "code",
   "execution_count": 3,
   "id": "03a4ccea-669a-4a76-9273-72114fdfb1db",
   "metadata": {},
   "outputs": [],
   "source": [
    "llm = ChatOpenAI(model=\"gpt-3.5-turbo-0125\")"
   ]
  },
  {
   "cell_type": "code",
   "execution_count": 4,
   "id": "fc946cf9-f668-449b-aa2b-549d6a56a3a2",
   "metadata": {},
   "outputs": [],
   "source": [
    "def web2docs(web_pages: Sequence[str], div_class: Sequence[str]) -> list:\n",
    "    '''Get html documents from web\n",
    "    Parameters\n",
    "    web_page: list or tuple of strings with web address of pages\n",
    "    div_class: div classes on page to keep\n",
    "    Return\n",
    "    docs object with content and metadata\n",
    "    '''\n",
    "    bs4_strainer = bs4.SoupStrainer(class_= div_class)\n",
    "    loader = WebBaseLoader(\n",
    "    web_paths=web_pages,\n",
    "    bs_kwargs={\"parse_only\": bs4_strainer},\n",
    ")\n",
    "    return loader.load()"
   ]
  },
  {
   "cell_type": "code",
   "execution_count": 5,
   "id": "0193be84-77d2-4efe-b65b-b0c0d9728e72",
   "metadata": {},
   "outputs": [],
   "source": [
    "# Only keep datasheet-content section\n",
    "docs = web2docs((\"https://www.kemet.com/en/us/capacitors/ceramic/ceramics-faq.html\",\"https://www.kemet.com/en/us/capacitors/polymer/tantalum-polymer-faqs.html\"),\n",
    "                (\"datasheet-content\"))\n",
    "                "
   ]
  },
  {
   "cell_type": "code",
   "execution_count": 6,
   "id": "4a034a87-defe-4ddc-a4e2-6b337c78f601",
   "metadata": {},
   "outputs": [
    {
     "name": "stdout",
     "output_type": "stream",
     "text": [
      "Doc#      Length      Source\n",
      "0         59050       {'source': 'https://www.kemet.com/en/us/capacitors/ceramic/ceramics-faq.html'}\n",
      "1         21525       {'source': 'https://www.kemet.com/en/us/capacitors/polymer/tantalum-polymer-faqs.html'}\n"
     ]
    }
   ],
   "source": [
    "print(\"Doc#      Length      Source\")\n",
    "for i, doc in enumerate(docs):\n",
    "    print(f\"{i}         {len(doc.page_content)}       {doc.metadata}\")"
   ]
  },
  {
   "cell_type": "code",
   "execution_count": 7,
   "id": "755eaab9-8038-4089-9d81-e059ca6e48cd",
   "metadata": {},
   "outputs": [
    {
     "name": "stdout",
     "output_type": "stream",
     "text": [
      "\n",
      "\n",
      "\n",
      " \n",
      "    Disclaimer\n",
      "\n",
      "\n",
      "\n",
      "\n",
      "This document is meant to provide general answers to frequently asked questions. All information in this document is for informational purposes only and is not considered a specification. \n",
      "To submit a question, please go to https://www.kemet.com/en/us/contact-us.html\n",
      "\n",
      "\n",
      "\n",
      "\n",
      "\n",
      " \n",
      "    General\n",
      "\n",
      "\n",
      "\n",
      "\n",
      " \n",
      "    Do MLCCs experience outgassing?\n",
      "\n",
      "\n",
      "\n",
      "Key Words: Outgassing\n",
      "KEMET Surface Mount Device (SMD) Multilayer Ceramic Capacitors (MLCCs) are constructed using high-temperature sintering pr\n"
     ]
    }
   ],
   "source": [
    "print(docs[0].page_content[:500])"
   ]
  },
  {
   "cell_type": "markdown",
   "id": "e8cb1459-0434-47c1-9630-2d82c3fb0484",
   "metadata": {},
   "source": [
    "Our loaded document is over 59k characters long. This is too long to fit in the context window of many models. Even for those models that could fit the full post in their context window, models can struggle to find information in very long inputs.\n",
    "\n",
    "To handle this we’ll split the Document into chunks for embedding and vector storage. This should help us retrieve only the most relevant bits of the blog post at run time.\n",
    "\n",
    "In this case we’ll split our documents into chunks of 1000 characters with 200 characters of overlap between chunks. The overlap helps mitigate the possibility of separating a statement from important context related to it. We use the RecursiveCharacterTextSplitter, which will recursively split the document using common separators like new lines until each chunk is the appropriate size. This is the recommended text splitter for generic text use cases.\n",
    "\n",
    "We set add_start_index=True so that the character index at which each split Document starts within the initial Document is preserved as metadata attribute “start_index”."
   ]
  },
  {
   "cell_type": "code",
   "execution_count": 7,
   "id": "3249b8ba-2075-4d34-b8be-25dfdc0abb19",
   "metadata": {},
   "outputs": [
    {
     "data": {
      "text/plain": [
       "121"
      ]
     },
     "execution_count": 7,
     "metadata": {},
     "output_type": "execute_result"
    }
   ],
   "source": [
    "text_splitter = RecursiveCharacterTextSplitter(\n",
    "    chunk_size=1000, chunk_overlap=200, add_start_index=True\n",
    ")\n",
    "all_splits = text_splitter.split_documents(docs)\n",
    "\n",
    "len(all_splits)"
   ]
  },
  {
   "cell_type": "code",
   "execution_count": 8,
   "id": "13983742-8d56-4d3f-ae65-fae6d7256b2a",
   "metadata": {},
   "outputs": [
    {
     "data": {
      "text/plain": [
       "Document(page_content='What is surge voltage?\\n\\n\\n\\nSurge voltage is the maximum voltage (peak value) which may be applied to the capacitor for a short period. The surge voltage must not be applied for periodic charging and discharging in the course of normal operation, and cannot be part of the operation voltage.\\nThe permissible surge voltage for all capacitors is 1.3 * VR. If voltage impulses (transient voltages) exceeding the surge voltage occur, this may lead to irreparable damage. If applications of this kind are planned, please consult us first.\\nFor polymer automotive series, the following table can be considered as reference for max surge scenario (T598/T599):\\n\\n\\n\\n\\n\\n\\n\\n\\n \\n    What is Impedance (Z)/Equivalent Series Resistance (ESR), and Equivalent Series Inductance (ESL)?', metadata={'source': 'https://www.kemet.com/en/us/capacitors/polymer/tantalum-polymer-faqs.html', 'start_index': 14494})"
      ]
     },
     "execution_count": 8,
     "metadata": {},
     "output_type": "execute_result"
    }
   ],
   "source": [
    "all_splits[110]"
   ]
  },
  {
   "cell_type": "code",
   "execution_count": 9,
   "id": "43f0a6e7-1d2a-4f45-8034-dd4342b74438",
   "metadata": {},
   "outputs": [
    {
     "data": {
      "text/plain": [
       "761"
      ]
     },
     "execution_count": 9,
     "metadata": {},
     "output_type": "execute_result"
    }
   ],
   "source": [
    "len(all_splits[110].page_content)"
   ]
  },
  {
   "cell_type": "code",
   "execution_count": 10,
   "id": "694347e6-0b0b-46f9-9035-c83ce1a8e838",
   "metadata": {},
   "outputs": [
    {
     "data": {
      "text/plain": [
       "{'source': 'https://www.kemet.com/en/us/capacitors/polymer/tantalum-polymer-faqs.html',\n",
       " 'start_index': 14494}"
      ]
     },
     "execution_count": 10,
     "metadata": {},
     "output_type": "execute_result"
    }
   ],
   "source": [
    "all_splits[110].metadata"
   ]
  },
  {
   "cell_type": "markdown",
   "id": "ea2db981-77f5-4cfd-ad14-ee14ec90b0ce",
   "metadata": {},
   "source": [
    "Now we need to index our 88 text chunks so that we can search over them at runtime. The most common way to do this is to embed the contents of each document split and insert these embeddings into a vector database (or vector store). When we want to search over our splits, we take a text search query, embed it, and perform some sort of “similarity” search to identify the stored splits with the most similar embeddings to our query embedding. The simplest similarity measure is cosine similarity — we measure the cosine of the angle between each pair of embeddings (which are high dimensional vectors).\n",
    "\n",
    "We can embed and store all of our document splits in a single command using the Chroma vector store and OpenAIEmbeddings model."
   ]
  },
  {
   "cell_type": "code",
   "execution_count": 11,
   "id": "cbd99767-990c-4e16-9042-1cd7cf2219bf",
   "metadata": {},
   "outputs": [],
   "source": [
    "persist_directory = 'vectordb'\n",
    "vectorstore = Chroma.from_documents(documents=all_splits, embedding=OpenAIEmbeddings(), persist_directory=persist_directory)"
   ]
  },
  {
   "cell_type": "code",
   "execution_count": 13,
   "id": "a09349b1-8497-41fb-ac8a-295d3b11e385",
   "metadata": {},
   "outputs": [
    {
     "name": "stderr",
     "output_type": "stream",
     "text": [
      "/media/phil/m2ssd/miniconda3/envs/ai/lib/python3.12/site-packages/langchain_core/_api/deprecation.py:119: LangChainDeprecationWarning: Since Chroma 0.4.x the manual persistence method is no longer supported as docs are automatically persisted.\n",
      "  warn_deprecated(\n"
     ]
    }
   ],
   "source": [
    "vectorstore.persist()\n",
    "vectorstore = None"
   ]
  },
  {
   "cell_type": "code",
   "execution_count": 15,
   "id": "c7c816fe-8e60-4230-8656-a27dea2dbe61",
   "metadata": {},
   "outputs": [],
   "source": [
    "vectorstore = Chroma(persist_directory=persist_directory, embedding_function=OpenAIEmbeddings())"
   ]
  },
  {
   "cell_type": "markdown",
   "id": "2b833e0e-b171-4c0e-a525-e2d5cd4ae4ee",
   "metadata": {},
   "source": [
    "Now let’s write the actual application logic. We want to create a simple application that takes a user question, searches for documents relevant to that question, passes the retrieved documents and initial question to a model, and returns an answer.\n",
    "\n",
    "First we need to define our logic for searching over documents. LangChain defines a Retriever interface which wraps an index that can return relevant Documents given a string query.\n",
    "\n",
    "The most common type of Retriever is the VectorStoreRetriever, which uses the similarity search capabilities of a vector store to facilitate retrieval. Any VectorStore can easily be turned into a Retriever with VectorStore.as_retriever():"
   ]
  },
  {
   "cell_type": "code",
   "execution_count": 24,
   "id": "55c6eda1-5e55-41aa-85eb-9d50ba010c60",
   "metadata": {},
   "outputs": [
    {
     "data": {
      "text/plain": [
       "6"
      ]
     },
     "execution_count": 24,
     "metadata": {},
     "output_type": "execute_result"
    }
   ],
   "source": [
    "retriever = vectorstore.as_retriever(search_type=\"similarity\", search_kwargs={\"k\": 6})\n",
    "\n",
    "retrieved_docs = retriever.invoke(\"What is ESR for MLCC?\")\n",
    "\n",
    "len(retrieved_docs)"
   ]
  },
  {
   "cell_type": "code",
   "execution_count": 25,
   "id": "ecb4991e-0475-434b-844f-d49b6c170c52",
   "metadata": {},
   "outputs": [
    {
     "name": "stdout",
     "output_type": "stream",
     "text": [
      "Typical Dielectric Absorption for MLCCs\n",
      "\n",
      "\n",
      "\n",
      "\n",
      "\n",
      "\n",
      "\n",
      "\n",
      "\n",
      " \n",
      "    What is Equivalent Series Resistance (ESR)?\n",
      "\n",
      "\n",
      "\n",
      "Equivalent Series Resistance, or ESR, is the sum of all the resistive losses in an MLCC and represents the fundamental part of the complex impedance equation as seen below. This equation includes the losses due to the dielectric, internal electrodes, and external terminations. For MLCCs, most resistive losses are due to the dielectric and internal electrodes. At low frequencies, the dielectric losses dominate and decrease as frequency increases. At higher frequencies, the electrode losses dominate and increase as frequency increases. MLCCs have very low ESR compared to other capacitor technologies, making them a popular choice for AC applications.\n",
      "\n",
      "\n",
      "\n",
      "\n",
      "\n",
      "\n",
      "\n",
      "\n",
      "\n",
      "\n",
      "\n",
      "\n",
      "\n",
      "Figure 1 – Power loss contribution for dielectric and electrodes vs frequency\n"
     ]
    }
   ],
   "source": [
    "print(retrieved_docs[0].page_content)"
   ]
  },
  {
   "cell_type": "code",
   "execution_count": 26,
   "id": "d09b574c-0a57-4e18-abf3-d380f95e8f96",
   "metadata": {},
   "outputs": [
    {
     "name": "stdout",
     "output_type": "stream",
     "text": [
      "Figure 1 – Power loss contribution for dielectric and electrodes vs frequency\n",
      "\n",
      "\n",
      "\n",
      "\n",
      "\n",
      "\n",
      "\n",
      "\n",
      "\n",
      "ESR is an important characteristic in MLCCs since high ESR can cause excessive power loss, resulting in thermal runaway. Since the power dissipated in an MLCC is a product of the ESR and the square of the current, higher current applications can easily cause self-heating of the MLCC.\n",
      "\n",
      "\n",
      "\n",
      "\n",
      "\n",
      "\n",
      "\n",
      "\n",
      "\n",
      "\n",
      "\n",
      "\n",
      "\n",
      "\n",
      "\n",
      "\n",
      "\n",
      "\n",
      "\n",
      "\n",
      "\n",
      "\n",
      "\n",
      "\n",
      "\n",
      "\n",
      "\n",
      "\n",
      "Class 1 MLCCs such as C0G and U2J utilize a low-loss dielectric and therefore have much lower ESR than Class 2 MLCCs such as X7R, X5R, etc. Due to low ESR, Class 1 MLCCs are ideal for high AC applications such as DC-LINK, LLC resonant converters, and wireless power transfer.\n",
      "\n",
      "\n",
      "\n",
      "\n",
      "\n",
      "\n",
      "\n",
      "\n",
      "\n",
      "\n",
      "\n",
      "    Figure 2 – Impedance and ESR vs. frequency for Class 1 and Class 2 MLCCs\n",
      "\n",
      "\n",
      "\n",
      "\n",
      "\n",
      "\n",
      "\n",
      "\n",
      "\n",
      "The KEMET KSIM tool provides many electrical characteristics for MLCCs, including ESR.  \n",
      "https://ksim3.kemet.com/\n",
      "\n",
      "\n",
      "\n",
      "\n",
      "\n",
      "\n",
      "\n",
      "\n",
      "\n",
      "\n",
      "\n",
      "\n",
      "\n",
      "\n",
      "\n",
      "\n",
      "\n",
      "\n",
      " \n",
      "    What is Dissipation Factor (DF)?\n"
     ]
    }
   ],
   "source": [
    "print(retrieved_docs[1].page_content)"
   ]
  },
  {
   "cell_type": "code",
   "execution_count": 27,
   "id": "ffd92571-ce8d-4ec7-b80f-81a0af2afef2",
   "metadata": {},
   "outputs": [
    {
     "data": {
      "text/plain": [
       "[HumanMessage(content=\"You are an assistant for question-answering tasks. Use the following pieces of retrieved context to answer the question. If you don't know the answer, just say that you don't know. Use three sentences maximum and keep the answer concise.\\nQuestion: filler question \\nContext: filler context \\nAnswer:\")]"
      ]
     },
     "execution_count": 27,
     "metadata": {},
     "output_type": "execute_result"
    }
   ],
   "source": [
    "prompt = hub.pull(\"rlm/rag-prompt\")\n",
    "\n",
    "example_messages = prompt.invoke(\n",
    "    {\"context\": \"filler context\", \"question\": \"filler question\"}\n",
    ").to_messages()\n",
    "\n",
    "example_messages"
   ]
  },
  {
   "cell_type": "code",
   "execution_count": 28,
   "id": "7973bbfc-a2c0-43aa-a777-ac260c31d94d",
   "metadata": {},
   "outputs": [
    {
     "name": "stdout",
     "output_type": "stream",
     "text": [
      "ESD stands for Electrostatic Discharge and refers to the release of static electricity caused by contact between two objects. It can reach voltages as high as 30kV and currents of up to 30 amps, but the total energy of ESD transient pulses is very low (<50mJ) and occurs in less than 100ns. ESD can be harmless to people but can have severe effects on electronics if not properly managed."
     ]
    }
   ],
   "source": [
    "def format_docs(docs):\n",
    "    return \"\\n\\n\".join(doc.page_content for doc in docs)\n",
    "\n",
    "\n",
    "rag_chain = (\n",
    "    {\"context\": retriever | format_docs, \"question\": RunnablePassthrough()}\n",
    "    | prompt\n",
    "    | llm\n",
    "    | StrOutputParser()\n",
    ")\n",
    "\n",
    "for chunk in rag_chain.stream(\"What is ESR for MLCC?\"):\n",
    "    print(chunk, end=\"\", flush=True)"
   ]
  },
  {
   "cell_type": "code",
   "execution_count": null,
   "id": "18393d97-81cb-41ec-8972-2e11cb1913b2",
   "metadata": {},
   "outputs": [],
   "source": []
  }
 ],
 "metadata": {
  "kernelspec": {
   "display_name": "Python 3 (ipykernel)",
   "language": "python",
   "name": "python3"
  },
  "language_info": {
   "codemirror_mode": {
    "name": "ipython",
    "version": 3
   },
   "file_extension": ".py",
   "mimetype": "text/x-python",
   "name": "python",
   "nbconvert_exporter": "python",
   "pygments_lexer": "ipython3",
   "version": "3.12.3"
  }
 },
 "nbformat": 4,
 "nbformat_minor": 5
}
